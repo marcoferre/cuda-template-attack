{
 "cells": [
  {
   "cell_type": "code",
   "execution_count": 17,
   "id": "56e52f06",
   "metadata": {
    "pycharm": {
     "name": "#%%\n"
    }
   },
   "outputs": [],
   "source": [
    "from traces_bin_reader.TracesBin import TracesBin\n",
    "data_dir = \"C:/Users/marco/OneDrive - Politecnico di Milano/fpga100t_duDFS_V_1.00_F_50.000MHz/\""
   ]
  },
  {
   "cell_type": "code",
   "execution_count": 18,
   "id": "15936812",
   "metadata": {
    "pycharm": {
     "name": "#%%\n"
    }
   },
   "outputs": [],
   "source": [
    "f = TracesBin(data_dir + \"2021-10-25_100t_duDFS_VCC-1.00_freq-50.000MHz_125MSa_12bit_k0-00_1k.dat\")"
   ]
  },
  {
   "cell_type": "code",
   "execution_count": 6,
   "id": "eb828254",
   "metadata": {
    "pycharm": {
     "name": "#%%\n"
    }
   },
   "outputs": [],
   "source": [
    "assert int.from_bytes(f.getKey(), 'big') == 0x007e151628aed2a6abf7158809cf4f3c"
   ]
  },
  {
   "cell_type": "code",
   "execution_count": 12,
   "id": "66c64efe",
   "metadata": {
    "pycharm": {
     "name": "#%%\n"
    }
   },
   "outputs": [],
   "source": [
    "assert f.getNTraces() == 500"
   ]
  },
  {
   "cell_type": "code",
   "execution_count": 8,
   "id": "f1128ae4",
   "metadata": {
    "pycharm": {
     "name": "#%%\n"
    }
   },
   "outputs": [],
   "source": [
    "assert f.getNSamples() == 134016"
   ]
  },
  {
   "cell_type": "code",
   "execution_count": 9,
   "id": "67ea26e1",
   "metadata": {
    "pycharm": {
     "name": "#%%\n"
    }
   },
   "outputs": [
    {
     "ename": "AssertionError",
     "evalue": "",
     "output_type": "error",
     "traceback": [
      "\u001B[1;31m---------------------------------------------------------------------------\u001B[0m",
      "\u001B[1;31mAssertionError\u001B[0m                            Traceback (most recent call last)",
      "\u001B[1;32m~\\AppData\\Local\\Temp/ipykernel_13164/2234728121.py\u001B[0m in \u001B[0;36m<module>\u001B[1;34m\u001B[0m\n\u001B[0;32m      1\u001B[0m \u001B[0mdata\u001B[0m\u001B[1;33m,\u001B[0m \u001B[0mplain\u001B[0m \u001B[1;33m=\u001B[0m \u001B[0mf\u001B[0m\u001B[1;33m.\u001B[0m\u001B[0mgetAllTraces\u001B[0m\u001B[1;33m(\u001B[0m\u001B[1;33m)\u001B[0m\u001B[1;33m\u001B[0m\u001B[1;33m\u001B[0m\u001B[0m\n\u001B[1;32m----> 2\u001B[1;33m \u001B[1;32massert\u001B[0m \u001B[0mint\u001B[0m\u001B[1;33m.\u001B[0m\u001B[0mfrom_bytes\u001B[0m\u001B[1;33m(\u001B[0m\u001B[0mplain\u001B[0m\u001B[1;33m[\u001B[0m\u001B[1;36m0\u001B[0m\u001B[1;33m]\u001B[0m\u001B[1;33m,\u001B[0m \u001B[1;34m'big'\u001B[0m\u001B[1;33m)\u001B[0m  \u001B[1;33m==\u001B[0m \u001B[1;36m0x4e83db96249048278c2278e8583c283e\u001B[0m\u001B[1;33m\u001B[0m\u001B[1;33m\u001B[0m\u001B[0m\n\u001B[0m",
      "\u001B[1;31mAssertionError\u001B[0m: "
     ]
    }
   ],
   "source": [
    "data, plain = f.getAllTraces()\n",
    "assert int.from_bytes(plain[0], 'big')  == 0x4e83db96249048278c2278e8583c283e"
   ]
  },
  {
   "cell_type": "code",
   "execution_count": 10,
   "id": "2b9118e1",
   "metadata": {
    "pycharm": {
     "name": "#%%\n"
    }
   },
   "outputs": [],
   "source": [
    "data0, plain0 = f.getTraces([0])\n",
    "assert all(data0[0]==data[0])\n",
    "assert all(plain0[0]==plain[0])"
   ]
  },
  {
   "cell_type": "code",
   "execution_count": 11,
   "id": "6bedcfb0",
   "metadata": {
    "pycharm": {
     "name": "#%%\n"
    }
   },
   "outputs": [],
   "source": [
    "some_sam= [4,56,1000]\n",
    "data_some, plain_some= f.getSamples([1], some_sam)\n",
    "assert all(plain_some[0]== plain[1])\n",
    "assert all(data_some[0] == data[1,some_sam])"
   ]
  },
  {
   "cell_type": "code",
   "execution_count": null,
   "outputs": [],
   "source": [],
   "metadata": {
    "collapsed": false,
    "pycharm": {
     "name": "#%%\n"
    }
   }
  }
 ],
 "metadata": {
  "kernelspec": {
   "display_name": "Python 3",
   "language": "python",
   "name": "python3"
  },
  "language_info": {
   "codemirror_mode": {
    "name": "ipython",
    "version": 3
   },
   "file_extension": ".py",
   "mimetype": "text/x-python",
   "name": "python",
   "nbconvert_exporter": "python",
   "pygments_lexer": "ipython3",
   "version": "3.9.3"
  }
 },
 "nbformat": 4,
 "nbformat_minor": 5
}